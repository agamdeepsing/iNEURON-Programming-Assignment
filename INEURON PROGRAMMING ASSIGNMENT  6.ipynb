{
 "cells": [
  {
   "attachments": {},
   "cell_type": "markdown",
   "metadata": {},
   "source": [
    "Ques 1"
   ]
  },
  {
   "cell_type": "code",
   "execution_count": 19,
   "metadata": {},
   "outputs": [
    {
     "name": "stdout",
     "output_type": "stream",
     "text": [
      "Fibonacci sequence:\n",
      "0 1 1 2 3 5 8 13 21 34 55 89 144 233 377 610 987 1597 2584 4181 "
     ]
    }
   ],
   "source": [
    "def fib(n):\n",
    "    if n <= 1:\n",
    "        return n\n",
    "    else:\n",
    "        return (fib(n-1) + fib(n-2))\n",
    "\n",
    "# user to enter the number of terms to display\n",
    "numberofterms = int(input(\"Enter the number of terms to display: \"))\n",
    "\n",
    "# check if the input is valid\n",
    "if numberofterms <= 0:\n",
    "    print(\"Invalid input! Please enter a positive integer.\")\n",
    "else:\n",
    "    print(\"Fibonacci sequence:\")\n",
    "    for i in range(numberofterms):\n",
    "        print(fib(i), end=\" \")\n"
   ]
  },
  {
   "attachments": {},
   "cell_type": "markdown",
   "metadata": {},
   "source": [
    "Ques 2"
   ]
  },
  {
   "cell_type": "code",
   "execution_count": 23,
   "metadata": {},
   "outputs": [
    {
     "name": "stdout",
     "output_type": "stream",
     "text": [
      "The factorial of 5 is 120\n"
     ]
    }
   ],
   "source": [
    "def factorial(n):\n",
    "    if n == 1:\n",
    "        return 1\n",
    "    else:\n",
    "        return n * factorial(n-1)\n",
    "\n",
    "#user to enter a number\n",
    "num = int(input(\"Enter a number: \"))\n",
    "\n",
    "# check if the input is valid\n",
    "if num < 0:\n",
    "    print(\"Invalid input! Please enter a non-negative integer.\")\n",
    "elif num == 0:\n",
    "    print(\"The factorial of 0 is 1.\")\n",
    "else:\n",
    "    print(\"The factorial of\", num, \"is\", factorial(num))\n"
   ]
  },
  {
   "attachments": {},
   "cell_type": "markdown",
   "metadata": {},
   "source": [
    "Ques 3"
   ]
  },
  {
   "cell_type": "code",
   "execution_count": 24,
   "metadata": {},
   "outputs": [
    {
     "ename": "ValueError",
     "evalue": "could not convert string to float: ''",
     "output_type": "error",
     "traceback": [
      "\u001b[1;31m---------------------------------------------------------------------------\u001b[0m",
      "\u001b[1;31mValueError\u001b[0m                                Traceback (most recent call last)",
      "Cell \u001b[1;32mIn[24], line 19\u001b[0m\n\u001b[0;32m     15\u001b[0m         result  \u001b[39m=\u001b[39m \u001b[39m'\u001b[39m\u001b[39mrab rakha waheguru mehr kare\u001b[39m\u001b[39m'\u001b[39m\n\u001b[0;32m     17\u001b[0m     \u001b[39mprint\u001b[39m(\u001b[39m\"\u001b[39m\u001b[39mYour body mass index:\u001b[39m\u001b[39m\"\u001b[39m,BMI, \u001b[39m\"\u001b[39m\u001b[39mresult is :\u001b[39m\u001b[39m\"\u001b[39m \u001b[39m+\u001b[39m result)\n\u001b[1;32m---> 19\u001b[0m calculateBMI()\n",
      "Cell \u001b[1;32mIn[24], line 2\u001b[0m, in \u001b[0;36mcalculateBMI\u001b[1;34m()\u001b[0m\n\u001b[0;32m      1\u001b[0m \u001b[39mdef\u001b[39;00m \u001b[39mcalculateBMI\u001b[39m():\n\u001b[1;32m----> 2\u001b[0m     height \u001b[39m=\u001b[39m \u001b[39mfloat\u001b[39;49m(\u001b[39minput\u001b[39;49m(\u001b[39m\"\u001b[39;49m\u001b[39mInput your height in m: \u001b[39;49m\u001b[39m\"\u001b[39;49m))\n\u001b[0;32m      3\u001b[0m     weight \u001b[39m=\u001b[39m \u001b[39mfloat\u001b[39m(\u001b[39minput\u001b[39m(\u001b[39m\"\u001b[39m\u001b[39mInput your weight in Kilogram: \u001b[39m\u001b[39m\"\u001b[39m))\n\u001b[0;32m      4\u001b[0m     BMI \u001b[39m=\u001b[39m \u001b[39mround\u001b[39m(weight \u001b[39m/\u001b[39m (height \u001b[39m*\u001b[39m height), \u001b[39m2\u001b[39m)\n",
      "\u001b[1;31mValueError\u001b[0m: could not convert string to float: ''"
     ]
    }
   ],
   "source": [
    "def calculateBMI():\n",
    "    height = float(input(\"Input your height in m: \"))\n",
    "    weight = float(input(\"Input your weight in Kilogram: \"))\n",
    "    BMI = round(weight / (height * height), 2)\n",
    "    \n",
    "    \n",
    "\n",
    "    if (BMI < 18.5):\n",
    "        result = 'Underweight'\n",
    "    elif BMI >=18.5 and BMI < 24.9:\n",
    "        result = 'Healthy'\n",
    "    elif (BMI >= 24.9 and BMI <30):\n",
    "        result  =  'overweight'\n",
    "    elif (BMI >= 30):\n",
    "        result  = 'rab rakha waheguru mehr kare'\n",
    "\n",
    "    print(\"Your body mass index:\",BMI, \"result is :\" + result)\n",
    "\n",
    "calculateBMI()"
   ]
  },
  {
   "attachments": {},
   "cell_type": "markdown",
   "metadata": {},
   "source": [
    "Ques 4"
   ]
  },
  {
   "cell_type": "code",
   "execution_count": null,
   "metadata": {},
   "outputs": [
    {
     "name": "stdout",
     "output_type": "stream",
     "text": [
      "The natural logarithm of 24.0 is 3.1780538303479458\n"
     ]
    }
   ],
   "source": [
    "import math\n",
    "\n",
    "number = float(input(\"Enter a number: \"))\n",
    "ln = math.log(number)\n",
    "\n",
    "print(\"The natural logarithm of\", number, \"is\", ln)\n"
   ]
  },
  {
   "attachments": {},
   "cell_type": "markdown",
   "metadata": {},
   "source": [
    "Ques 5"
   ]
  },
  {
   "cell_type": "code",
   "execution_count": null,
   "metadata": {},
   "outputs": [
    {
     "name": "stdout",
     "output_type": "stream",
     "text": [
      "The cube sum of the first 7 natural numbers is 784\n"
     ]
    }
   ],
   "source": [
    "#  user to enter a number\n",
    "n = int(input(\"Enter a number: \"))\n",
    "\n",
    "# sum variable\n",
    "sum = 0\n",
    "\n",
    "# iterate through the first n natural numbers\n",
    "for i in range(1, n+1):\n",
    "    # calculate the cube of each number and add it to the sum\n",
    "    sum += i**3\n",
    "\n",
    "# print the result\n",
    "print(\"The cube sum of the first\", n, \"natural numbers is\", sum)\n"
   ]
  }
 ],
 "metadata": {
  "kernelspec": {
   "display_name": "base",
   "language": "python",
   "name": "python3"
  },
  "language_info": {
   "codemirror_mode": {
    "name": "ipython",
    "version": 3
   },
   "file_extension": ".py",
   "mimetype": "text/x-python",
   "name": "python",
   "nbconvert_exporter": "python",
   "pygments_lexer": "ipython3",
   "version": "3.10.9"
  },
  "orig_nbformat": 4
 },
 "nbformat": 4,
 "nbformat_minor": 2
}
